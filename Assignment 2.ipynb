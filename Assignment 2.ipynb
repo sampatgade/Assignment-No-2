{
 "cells": [
  {
   "cell_type": "code",
   "execution_count": 5,
   "id": "058423da-55cf-42be-a891-777bcb28e735",
   "metadata": {},
   "outputs": [
    {
     "name": "stdin",
     "output_type": "stream",
     "text": [
      "enter Percentage   95\n"
     ]
    },
    {
     "name": "stdout",
     "output_type": "stream",
     "text": [
      "Then it is A grade Student\n"
     ]
    }
   ],
   "source": [
    "#Answer of Question 1\n",
    "percentage =int(input(\"enter Percentage  \"))\n",
    "if percentage > 90:\n",
    "    print(\"Then it is A grade Student\")\n",
    "elif percentage >80 and percentage <=90:\n",
    "        print(\"Then it is B grade Student\")\n",
    "elif percentage >=60  and percentage <=800:\n",
    "        print(\"Then it is C grade Student\")\n",
    "else:\n",
    "       print(\"Then it is D grade Student\")#"
   ]
  },
  {
   "cell_type": "code",
   "execution_count": 2,
   "id": "4999dcd6-719f-438f-a4f6-ae1b5bff1ebf",
   "metadata": {},
   "outputs": [
    {
     "name": "stdin",
     "output_type": "stream",
     "text": [
      "enter Cost Price   125000\n"
     ]
    },
    {
     "name": "stdout",
     "output_type": "stream",
     "text": [
      "Then Tax will be 15%\n"
     ]
    }
   ],
   "source": [
    "#Answer of Question 2\n",
    "CostP =int(input(\"enter Cost Price  \"))\n",
    "if CostP > 100000:\n",
    "    print(\"Then Tax will be 15%\")\n",
    "elif CostP >50000 and CostP <=100000:\n",
    "        print(\"Then Tax will be 10%\")\n",
    "else:\n",
    "       print(\"Then Tax will be 5%\")"
   ]
  },
  {
   "cell_type": "code",
   "execution_count": 3,
   "id": "c93397ec-6186-4a69-84e1-a5aa82934601",
   "metadata": {},
   "outputs": [
    {
     "name": "stdin",
     "output_type": "stream",
     "text": [
      "Enter city name:  Delhi\n"
     ]
    },
    {
     "name": "stdout",
     "output_type": "stream",
     "text": [
      "Monument is Red Fort\n"
     ]
    }
   ],
   "source": [
    "#Answer of Question 3\n",
    "City = str(input(\"Enter city name: \"))\n",
    "Delhi = \"Delhi\"\n",
    "Agra = \"Agra\"\n",
    "Jaipur = \"Jaipur\"\n",
    "\n",
    "if City == Delhi:\n",
    "    print(\"Monument is Red Fort\")\n",
    "elif City == Agra:\n",
    "    print(\"Monument is Taj Mahal\")\n",
    "elif City == Jaipur:\n",
    "    print(\"Monument is Jal Mahal\")\n"
   ]
  },
  {
   "cell_type": "code",
   "execution_count": 15,
   "id": "24b95800-e3f1-4f19-bb2a-580a5c8a0227",
   "metadata": {},
   "outputs": [
    {
     "name": "stdin",
     "output_type": "stream",
     "text": [
      "Enter a number:  50\n"
     ]
    },
    {
     "name": "stdout",
     "output_type": "stream",
     "text": [
      "The number can be divided by 3 2 times before it is less than or equal to 10.\n"
     ]
    }
   ],
   "source": [
    "#Answer of Question 4\n",
    "num = int(input(\"Enter a number: \"))\n",
    "counter = 0\n",
    "\n",
    "while num > 10:\n",
    "    num = num / 3\n",
    "    counter +=1\n",
    "\n",
    "print(\"The number can be divided by 3\", counter, \"times before it is less than or equal to 10.\")\n"
   ]
  },
  {
   "cell_type": "code",
   "execution_count": 16,
   "id": "93b397e6-3892-40cb-af33-0e5b8010ed93",
   "metadata": {},
   "outputs": [
    {
     "name": "stdout",
     "output_type": "stream",
     "text": [
      "10\n",
      "9\n",
      "8\n",
      "7\n",
      "6\n",
      "5\n",
      "4\n",
      "3\n",
      "2\n",
      "1\n"
     ]
    }
   ],
   "source": [
    "#Answer of Question 7\n",
    "num = 10\n",
    "\n",
    "while num >= 1:\n",
    "    print(num)\n",
    "    num -= 1\n"
   ]
  },
  {
   "cell_type": "code",
   "execution_count": 17,
   "id": "63540bed-6d32-4691-ad17-ba7fcb33ffc8",
   "metadata": {},
   "outputs": [
    {
     "name": "stdin",
     "output_type": "stream",
     "text": [
      "Enter the number of rows:  5\n"
     ]
    },
    {
     "name": "stdout",
     "output_type": "stream",
     "text": [
      "    *\n",
      "   ***\n",
      "  *****\n",
      " *******\n",
      "*********\n"
     ]
    }
   ],
   "source": [
    "#Answer of Question 8\n",
    "rows = int(input(\"Enter the number of rows: \"))\n",
    "i = 1\n",
    "\n",
    "while i <= rows:\n",
    "    j = 1\n",
    "    while j <= rows - i:\n",
    "        print(\" \", end=\"\")\n",
    "        j += 1\n",
    "    k = 1\n",
    "    while k <= 2 * i - 1:\n",
    "        print(\"*\", end=\"\")\n",
    "        k += 1\n",
    "    print(\"\")\n",
    "    i += 1\n"
   ]
  },
  {
   "cell_type": "code",
   "execution_count": 18,
   "id": "b39fafdc-bb26-4032-96bc-aec8446615c9",
   "metadata": {},
   "outputs": [
    {
     "name": "stdin",
     "output_type": "stream",
     "text": [
      "Enter the number of rows:  5\n"
     ]
    },
    {
     "name": "stdout",
     "output_type": "stream",
     "text": [
      "    *\n",
      "   ***\n",
      "  *****\n",
      " *******\n",
      "*********\n",
      " *******\n",
      "  *****\n",
      "   ***\n",
      "    *\n"
     ]
    }
   ],
   "source": [
    "rows = int(input(\"Enter the number of rows: \"))\n",
    "i = 1\n",
    "\n",
    "while i <= rows:\n",
    "    j = 1\n",
    "    while j <= rows - i:\n",
    "        print(\" \", end=\"\")\n",
    "        j += 1\n",
    "    k = 1\n",
    "    while k <= 2 * i - 1:\n",
    "        print(\"*\", end=\"\")\n",
    "        k += 1\n",
    "    print(\"\")\n",
    "    i += 1\n",
    "\n",
    "i = rows - 1\n",
    "\n",
    "while i >= 1:\n",
    "    j = 1\n",
    "    while j <= rows - i:\n",
    "        print(\" \", end=\"\")\n",
    "        j += 1\n",
    "    k = 1\n",
    "    while k <= 2 * i - 1:\n",
    "        print(\"*\", end=\"\")\n",
    "        k += 1\n",
    "    print(\"\")\n",
    "    i -= 1\n",
    "\n",
    "    "
   ]
  },
  {
   "cell_type": "code",
   "execution_count": 19,
   "id": "6f34e6fe-9fd4-47ac-a380-48006ea603a9",
   "metadata": {},
   "outputs": [
    {
     "name": "stdin",
     "output_type": "stream",
     "text": [
      "Enter the number of rows:  5\n"
     ]
    },
    {
     "name": "stdout",
     "output_type": "stream",
     "text": [
      "1 \n",
      "1 2 \n",
      "1 2 3 \n",
      "1 2 3 4 \n",
      "1 2 3 4 5 \n"
     ]
    }
   ],
   "source": [
    "rows = int(input(\"Enter the number of rows: \"))\n",
    "i = 1\n",
    "\n",
    "while i <= rows:\n",
    "    j = 1\n",
    "    while j <= i:\n",
    "        print(j, end=\" \")\n",
    "        j += 1\n",
    "    print(\"\")\n",
    "    i += 1\n",
    "\n",
    "    "
   ]
  },
  {
   "cell_type": "code",
   "execution_count": null,
   "id": "734d3129-1405-4cfd-b16c-e33192ac9cf4",
   "metadata": {},
   "outputs": [],
   "source": []
  }
 ],
 "metadata": {
  "kernelspec": {
   "display_name": "Python 3 (ipykernel)",
   "language": "python",
   "name": "python3"
  },
  "language_info": {
   "codemirror_mode": {
    "name": "ipython",
    "version": 3
   },
   "file_extension": ".py",
   "mimetype": "text/x-python",
   "name": "python",
   "nbconvert_exporter": "python",
   "pygments_lexer": "ipython3",
   "version": "3.10.8"
  }
 },
 "nbformat": 4,
 "nbformat_minor": 5
}
